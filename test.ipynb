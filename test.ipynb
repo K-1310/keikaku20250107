{
  "nbformat": 4,
  "nbformat_minor": 0,
  "metadata": {
    "colab": {
      "provenance": [],
      "authorship_tag": "ABX9TyPlOfZRmhEKW4ZNIzCVpbri",
      "include_colab_link": true
    },
    "kernelspec": {
      "name": "python3",
      "display_name": "Python 3"
    },
    "language_info": {
      "name": "python"
    }
  },
  "cells": [
    {
      "cell_type": "markdown",
      "metadata": {
        "id": "view-in-github",
        "colab_type": "text"
      },
      "source": [
        "<a href=\"https://colab.research.google.com/github/K-1310/keikaku20250107/blob/main/test.ipynb\" target=\"_parent\"><img src=\"https://colab.research.google.com/assets/colab-badge.svg\" alt=\"Open In Colab\"/></a>"
      ]
    },
    {
      "cell_type": "code",
      "execution_count": 1,
      "metadata": {
        "id": "ES_UHANequL_",
        "outputId": "c79355fd-bd59-4dcf-e3ab-31afa03ee0ed",
        "colab": {
          "base_uri": "https://localhost:8080/"
        }
      },
      "outputs": [
        {
          "output_type": "stream",
          "name": "stdout",
          "text": [
            "50\n",
            "150\n"
          ]
        }
      ],
      "source": [
        "a=10\n",
        "b=a*5\n",
        "print(b)\n",
        "\n",
        "c=3\n",
        "d=b*c\n",
        "print(d)\n"
      ]
    }
  ]
}